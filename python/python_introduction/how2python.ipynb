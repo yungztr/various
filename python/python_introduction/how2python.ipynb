{
 "cells": [
  {
   "cell_type": "markdown",
   "metadata": {},
   "source": [
    "# Print Statements\r\n",
    "\r\n",
    "Es können folgende Zeichen benutzt werden: `\"XYZ\"` und `'XYZ'`\r\n",
    "Das kann benutzt werden, um z.B. Gänsefüßchen innerhalb eines Strings zu beinhalten z.B. `\"Das Spiel 'Fortnite' ist King\"`\r\n",
    "\r\n",
    "Außerdem kann man Prints mehrzeilig ausgeben mit:\r\n",
    "\r\n",
    "```python\r\n",
    "print('''Im Spiel Fortnite gibt es mehrere Städte wie\r\n",
    "Tilted Towers\r\n",
    "Pleasant Park\r\n",
    "oder auch Salty Springs.\r\n",
    "''')\r\n",
    "```\r\n",
    "\r\n",
    "Sonst kann man auch wie gewohnt Strings zusammenfügen: `print(\"Fortnite\" + \"King\")`\r\n"
   ]
  },
  {
   "cell_type": "code",
   "execution_count": null,
   "metadata": {},
   "outputs": [],
   "source": [
    "print(\"XYZ\" + \"_ _\" +  'XYZ')\r\n",
    "print('''Im Spiel \"Fortnite\" gibt es mehrere Städte wie\r\n",
    "Tilted Towers\r\n",
    "Pleasant Park\r\n",
    "oder auch Salty Springs.\r\n",
    "''')\r\n",
    "\r\n",
    "test = \"cool\""
   ]
  },
  {
   "cell_type": "markdown",
   "metadata": {},
   "source": [
    "# Variablen\r\n",
    "\r\n",
    "Man kann ganz normal keine Strings / Int usw verrechnen\r\n",
    "\r\n",
    "Variabeln werden dynamisch definiert, ohne Typerkennung\r\n",
    "\r\n",
    "Verschiedene Datentypen (int + string) können mit einem Komma im `print` ausgegeben werden\r\n",
    "\r\n",
    "```python\r\n",
    "print(\"Test\", 10)\r\n",
    "```\r\n"
   ]
  },
  {
   "cell_type": "code",
   "execution_count": null,
   "metadata": {},
   "outputs": [],
   "source": [
    "string = var = 1628\r\n",
    "print(var + 1)\r\n",
    "string = \"King:\"\r\n",
    "print(string, var)"
   ]
  },
  {
   "cell_type": "markdown",
   "metadata": {},
   "source": [
    "# Variabelntypen\r\n",
    "\r\n",
    "Variabeln können auch nach Typ definiert werden:\r\n",
    "\r\n",
    "```python\r\n",
    "int_ganzzahl = 1629\r\n",
    "float_kommazahl = 16.29\r\n",
    "st_string = \"1-6-2-9\"\r\n",
    "```\r\n",
    "\r\n",
    "Aus irgendeinen Grund kann man diese Variablen trotzdem mit anderen Datentypen überschreien\r\n"
   ]
  },
  {
   "cell_type": "code",
   "execution_count": 3,
   "metadata": {},
   "outputs": [
    {
     "name": "stdout",
     "output_type": "stream",
     "text": [
      "1629\n",
      "16.29\n",
      "1-6-2-9\n",
      "------\n",
      "162.9\n"
     ]
    }
   ],
   "source": [
    "int_ganzzahl = 1629\r\n",
    "float_kommazahl = 16.29\r\n",
    "str_string = \"1-6-2-9\"\r\n",
    "\r\n",
    "print(int_ganzzahl)\r\n",
    "print(float_kommazahl)\r\n",
    "print(str_string)\r\n",
    "print(\"------\")\r\n",
    "\r\n",
    "# Kein Plan warum das hier geht\r\n",
    "\r\n",
    "int_ganzzahl = 162.9\r\n",
    "print(int_ganzzahl)"
   ]
  },
  {
   "cell_type": "markdown",
   "metadata": {},
   "source": [
    "# Rechnen\r\n",
    "\r\n",
    "Rechnen kann man wie gewohnt mit **Punkt-Vor-Strich** Regelung in `print`-Statements (oder allgemein) machen\r\n"
   ]
  },
  {
   "cell_type": "code",
   "execution_count": null,
   "metadata": {},
   "outputs": [],
   "source": [
    "pi = 355/113\r\n",
    "print (\"Rechnen in Python: \", 1.618 * (19/7) - 2.2)\r\n",
    "print(\"Kreiszahl 'Pi':\", pi, \" und die Zahl 'Tau':\", pi * 2)"
   ]
  },
  {
   "cell_type": "markdown",
   "metadata": {},
   "source": [
    "# If-Else\r\n",
    "\r\n",
    "Wie in anderen Sprachen ganz normal, hier aber keine Klammern sondern ein Doppelpunkt danach\r\n",
    "\r\n",
    "Der Code in den Einrückungen wird dann ausgeführt. Es gibt keine Klammern die die Booleanausweisung überprüfen\r\n",
    "\r\n",
    "## Java/C# und alles andere**\r\n",
    "\r\n",
    "```java\r\n",
    "if(x > y) {\r\n",
    "    System.out.println(\"King\");\r\n",
    "}\r\n",
    "```\r\n",
    "\r\n",
    "## Python\r\n",
    "\r\n",
    "```python\r\n",
    "if x > y:\r\n",
    "    print(\"King\")\r\n",
    "```"
   ]
  },
  {
   "cell_type": "code",
   "execution_count": null,
   "metadata": {},
   "outputs": [],
   "source": [
    "var = int(input(\"Bitte Ganzzahl eingeben:\"))\r\n",
    "if var > 100:\r\n",
    "    print(\"Ya Hobbbbbbbbbi\")\r\n",
    "else:\r\n",
    "    print(\"Ya Salemeeeeeee\")"
   ]
  },
  {
   "cell_type": "markdown",
   "metadata": {},
   "source": [
    "# For, While, Elif\r\n",
    "\r\n",
    "Ganz normal"
   ]
  },
  {
   "cell_type": "code",
   "execution_count": null,
   "metadata": {},
   "outputs": [],
   "source": [
    "index = 1\r\n",
    "while index <= 7:\r\n",
    "    if index == 5:\r\n",
    "        print(\"Freitag! Das Leben macht Spaß\")\r\n",
    "    elif index == 6 or index == 7:\r\n",
    "        print(\"Wochenende! Das Leben macht Spaß\")\r\n",
    "    else:\r\n",
    "        print(\"Tag\", index, \": Das Leben macht kein Spaß\")\r\n",
    "    index+=1\r\n",
    "    "
   ]
  },
  {
   "cell_type": "markdown",
   "metadata": {},
   "source": [
    "# Array / List\r\n",
    "\r\n",
    "Es gibt kein _Array_ in Python aber Liste was eigentlich das gleiche darstellt\r\n",
    "Es gibt auch Dictionary usw\r\n",
    "Arrays werden wie gewohnt definiert:\r\n",
    "\r\n",
    "```python\r\n",
    "liste = [\"Fortnite\", \"ist\",\"unnormal\",\"King\"]\r\n",
    "print(liste)\r\n",
    "```\r\n",
    "\r\n",
    "+ len()\r\n",
    "  + Länge der Liste\r\n",
    "+ append(**object**)\r\n",
    "  + Wie Add (Am Ende also)\r\n",
    "+ insert(int **index**, **object**)\r\n",
    "  + Hinzufügen von **object** an Stelle **index**\r\n",
    "+ pop()\r\n",
    "  + Entfernen von letzte Stelle\r\n",
    "+ remove(object)\r\n",
    "  + Entfernen von **object**\r\n"
   ]
  },
  {
   "cell_type": "code",
   "execution_count": null,
   "metadata": {},
   "outputs": [],
   "source": [
    "liste = [\"Fortnite\", \"ist\",\"unnormal\",\"King\"]\r\n",
    "print(liste)\r\n",
    "print(\"\")\r\n",
    "print(\"Schritt für Schritt:\")\r\n",
    "\r\n",
    "index = 1\r\n",
    "for x in liste:\r\n",
    "    print(\"Stelle\", index, \": \", x)\r\n",
    "    index+= 1"
   ]
  },
  {
   "cell_type": "markdown",
   "metadata": {},
   "source": [
    "# Funktionen\r\n",
    "\r\n",
    "Werden mit def angeben\r\n",
    "Besondere Funktionen:\r\n",
    "\r\n",
    "+ `def k(*name)`\r\n",
    "  + Beliebig viele Parameter. Abruf mit `name[x]`\r\n",
    "+ `def k(name = \"Silvan\")`\r\n",
    "  + Falls kein Parameter angegeben wird, ist default parameter **Silvan**\r\n",
    "+ __return__\r\n",
    "  + Ganz normal am Ende `return x` oder `return 10` oder sowas\r\n"
   ]
  },
  {
   "cell_type": "code",
   "execution_count": 7,
   "metadata": {},
   "outputs": [
    {
     "name": "stdout",
     "output_type": "stream",
     "text": [
      "Silvan\n",
      "Mervan\n",
      "Muhammed\n",
      "Zeynep\n",
      "Yasin\n",
      "Mein Name ist \n",
      "1\n",
      "3\n",
      "6\n",
      "10\n",
      "15\n"
     ]
    },
    {
     "data": {
      "text/plain": "15"
     },
     "execution_count": 7,
     "metadata": {},
     "output_type": "execute_result"
    }
   ],
   "source": [
    "def king(*Namen):\r\n",
    "    for x in Namen:\r\n",
    "        print(x)\r\n",
    "\r\n",
    "def cool(name = \"Silvan\"):\r\n",
    "    print(\"Mein Name ist\", name)\r\n",
    "\r\n",
    "def naja(zahl):\r\n",
    "    ergebnis = \"\"\r\n",
    "    if(zahl > 0):\r\n",
    "        ergebnis = zahl + naja(zahl - 1)\r\n",
    "        print(ergebnis)\r\n",
    "    else:\r\n",
    "        ergebnis = 0\r\n",
    "    return ergebnis\r\n",
    "\r\n",
    "king(\"Silvan\", \"Mervan\", \"Muhammed\", \"Zeynep\", \"Yasin\")\r\n",
    "cool(input())\r\n",
    "cool()\r\n",
    "naja(5)"
   ]
  },
  {
   "cell_type": "markdown",
   "metadata": {},
   "source": [
    "# Turtle Programmierung\r\n",
    "\r\n",
    "Turtle ist eine Klasse aus Python mit der man graphisch Zeichnen kann. Es ist für Programmieranfänger gedacht\r\n",
    "Das Objekt turtle, kann auf einen Fenster Striche zeichnen, z.B. vom Startpunkt 0,0 mit `forward(100)` 100 Pixel nach vorne\r\n",
    "\r\n",
    "Es gibt noch weitere Methoden, die man anwenden kann. Hier ist eine Liste einiger Beispiele\r\n",
    "`left() / right()`  -> Um Turtle zu drehen\r\n",
    "\r\n",
    "`setX() / setY()`   -> Setzt Turtle auf Position X, Y oder auch mit `setPosition()`\r\n",
    "\r\n",
    "`home()`            -> Bewegt den Turtle zu 0, 0\r\n",
    "\r\n",
    "`circle()`          -> Zeichnet einen Kreis\r\n",
    "\r\n",
    "`dot()`             -> Zeichnet einen Punkt\r\n",
    "\r\n",
    "`pendown() / penup()` -> Zeichenstift ablegen, anlegen\r\n",
    "\r\n",
    "`pensize()`         -> Stiftbreite festlegen\r\n",
    "\r\n",
    "`position()`        -> Gibt aktuelle Position\r\n",
    "\r\n",
    "`degress() / radian()` -> Dreht Turtle um so und so viel Grad"
   ]
  },
  {
   "cell_type": "code",
   "execution_count": 1,
   "metadata": {},
   "outputs": [],
   "source": [
    "import turtle\r\n",
    "turtle.forward(100)\r\n",
    "turtle.left(90)\r\n",
    "turtle.forward(50)\r\n",
    "turtle.left(90)\r\n",
    "turtle.forward(100)\r\n",
    "turtle.left(90)\r\n",
    "turtle.forward(50)\r\n",
    "turtle.left(90)\r\n",
    "turtle.penup()\r\n",
    "turtle.setposition(-50.0, -25.0)\r\n",
    "turtle.pendown()\r\n",
    "turtle.circle(50)\r\n",
    "turtle.penup()\r\n",
    "turtle.setposition(150.0, -25.0)\r\n",
    "turtle.pendown()\r\n",
    "turtle.circle(50)\r\n",
    "# Zeichnet Rechteck mit Kreis"
   ]
  }
 ],
 "metadata": {
  "kernelspec": {
   "display_name": "Python 3.9.13 64-bit",
   "name": "python3913jvsc74a57bd06f7c4d44365b28014734406e4d617c1e1f76ea196def854c7b951a230f6e24f1"
  },
  "language_info": {
   "name": "python",
   "version": ""
  },
  "metadata": {
   "interpreter": {
    "hash": "6f7c4d44365b28014734406e4d617c1e1f76ea196def854c7b951a230f6e24f1"
   }
  },
  "orig_nbformat": 2
 },
 "nbformat": 4,
 "nbformat_minor": 2
}